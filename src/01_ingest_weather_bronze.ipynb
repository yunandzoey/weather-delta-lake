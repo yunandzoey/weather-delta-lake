{
 "cells": [
  {
   "cell_type": "code",
   "execution_count": 0,
   "metadata": {
    "application/vnd.databricks.v1+cell": {
     "cellMetadata": {
      "byteLimit": 2048000,
      "rowLimit": 10000
     },
     "inputWidgets": {},
     "nuid": "e134711a-474f-49ea-b1a3-837860767459",
     "showTitle": false,
     "tableResultSettingsMap": {},
     "title": ""
    }
   },
   "outputs": [],
   "source": [
    "# COMMAND ----------  (cell 1) — Init & widgets\n",
    "dbutils.widgets.text(\"lat\",  \"52.52\")     # Berlin default\n",
    "dbutils.widgets.text(\"lon\",  \"13.405\")\n",
    "dbutils.widgets.text(\"tz\",   \"Europe/Berlin\")\n",
    "dbutils.widgets.text(\"hours\",\"168\")       # forecast horizon\n",
    "lat      = dbutils.widgets.get(\"lat\")\n",
    "lon      = dbutils.widgets.get(\"lon\")\n",
    "tz       = dbutils.widgets.get(\"tz\")\n",
    "hours    = int(dbutils.widgets.get(\"hours\"))\n",
    "\n",
    "# COMMAND ----------  (cell 2) — Pull JSON from Open-Meteo\n",
    "import requests, json, datetime, pyspark.sql.functions as F\n",
    "BASE = \"https://api.open-meteo.com/v1/forecast\"\n",
    "params = dict(\n",
    "    latitude = lat,\n",
    "    longitude = lon,\n",
    "    hourly = \",\".join([\n",
    "        \"temperature_2m\",\"relativehumidity_2m\",\n",
    "        \"windspeed_10m\",\"winddirection_10m\",\"pressure_msl\"\n",
    "    ]),\n",
    "    timezone = tz,\n",
    "    forecast_hours = hours          # returns up to 168 h (7 days) :contentReference[oaicite:1]{index=1}\n",
    ")\n",
    "resp = requests.get(BASE, params=params, timeout=10)\n",
    "resp.raise_for_status()\n",
    "payload = resp.json()\n",
    "\n",
    "# COMMAND ----------  (cell 3) — Shape into Spark DF\n",
    "# Explode hourly arrays\n",
    "hourly = payload[\"hourly\"]\n",
    "rows = list(zip(hourly[\"time\"],\n",
    "                hourly[\"temperature_2m\"],\n",
    "                hourly[\"relativehumidity_2m\"],\n",
    "                hourly[\"windspeed_10m\"],\n",
    "                hourly[\"winddirection_10m\"],\n",
    "                hourly[\"pressure_msl\"]))\n",
    "\n",
    "cols = [\"timestamp_utc\",\"temp_c\",\"humidity_pct\",\"wind_speed_kmh\",\"wind_dir_deg\",\"pressure_hpa\"]\n",
    "df = spark.createDataFrame(rows, cols)\\\n",
    "          .withColumn(\"location_lat\", F.lit(float(lat)))\\\n",
    "          .withColumn(\"location_lon\", F.lit(float(lon)))\\\n",
    "          .withColumn(\"ingest_ts\",    F.current_timestamp())\\\n",
    "          .withColumn(\"ingest_ts_date\", F.to_date(\"ingest_ts\"))\\\n",
    "          .withColumn(\"source_url\",   F.lit(resp.url))\n",
    "\n",
    "# COMMAND ----------  (cell 4) — Write/merge into Delta Bronze\n",
    "spark.sql(\"CREATE DATABASE IF NOT EXISTS weather_bronze\")\n",
    "(\n",
    "  df.write\n",
    "    .format(\"delta\")\n",
    "    .mode(\"append\")\n",
    "    .partitionBy(\"ingest_ts_date\")         # derived below for fast purges\n",
    "    .option(\"mergeSchema\",\"true\")\n",
    "    .saveAsTable(\"weather_bronze.hourly\")\n",
    ")\n",
    "\n",
    "# Quick helper view\n",
    "spark.sql(\"\"\"\n",
    "CREATE OR REPLACE VIEW weather_bronze.hourly_latest AS\n",
    "SELECT * FROM weather_bronze.hourly \n",
    "WHERE timestamp_utc = (SELECT max(timestamp_utc) FROM weather_bronze.hourly)\n",
    "\"\"\")\n"
   ]
  },
  {
   "cell_type": "code",
   "execution_count": 0,
   "metadata": {
    "application/vnd.databricks.v1+cell": {
     "cellMetadata": {
      "byteLimit": 2048000,
      "rowLimit": 10000
     },
     "collapsed": true,
     "inputWidgets": {},
     "nuid": "66bdd3fa-a963-4104-b5ce-18539c1eafe3",
     "showTitle": false,
     "tableResultSettingsMap": {},
     "title": ""
    }
   },
   "outputs": [],
   "source": [
    "# spark.sql(\"USE weather_bronze\")\n",
    "\n",
    "# # 1️⃣ Does the table exist?\n",
    "# spark.sql(\"SHOW TABLES\").show()\n",
    "\n",
    "# # 2️⃣ Row count and a peek\n",
    "# spark.sql(\"\"\"\n",
    "#     SELECT COUNT(*) AS rows,\n",
    "#            MIN(timestamp_utc) AS oldest,\n",
    "#            MAX(timestamp_utc) AS newest\n",
    "#     FROM weather_bronze.hourly\n",
    "# \"\"\").show()\n",
    "\n",
    "# # 3️⃣ Sample 5 rows\n",
    "# spark.table(\"weather_bronze.hourly\").show(5, truncate=False)\n"
   ]
  }
 ],
 "metadata": {
  "application/vnd.databricks.v1+notebook": {
   "computePreferences": null,
   "dashboards": [],
   "environmentMetadata": {
    "base_environment": "",
    "environment_version": "2"
   },
   "inputWidgetPreferences": null,
   "language": "python",
   "notebookMetadata": {
    "pythonIndentUnit": 4
   },
   "notebookName": "01_ingest_weather_bronze",
   "widgets": {
    "hours": {
     "currentValue": "168",
     "nuid": "8738b482-8db1-40ac-8c97-d47b522bfde6",
     "typedWidgetInfo": {
      "autoCreated": false,
      "defaultValue": "168",
      "label": null,
      "name": "hours",
      "options": {
       "widgetDisplayType": "Text",
       "validationRegex": null
      },
      "parameterDataType": "String"
     },
     "widgetInfo": {
      "widgetType": "text",
      "defaultValue": "168",
      "label": null,
      "name": "hours",
      "options": {
       "widgetType": "text",
       "autoCreated": null,
       "validationRegex": null
      }
     }
    },
    "lat": {
     "currentValue": "52.52",
     "nuid": "f42662d6-5d6a-49b9-856c-1ba12b0e4fed",
     "typedWidgetInfo": {
      "autoCreated": false,
      "defaultValue": "52.52",
      "label": null,
      "name": "lat",
      "options": {
       "widgetDisplayType": "Text",
       "validationRegex": null
      },
      "parameterDataType": "String"
     },
     "widgetInfo": {
      "widgetType": "text",
      "defaultValue": "52.52",
      "label": null,
      "name": "lat",
      "options": {
       "widgetType": "text",
       "autoCreated": null,
       "validationRegex": null
      }
     }
    },
    "lon": {
     "currentValue": "13.405",
     "nuid": "80e26188-20b9-4346-8f2a-295665817f7d",
     "typedWidgetInfo": {
      "autoCreated": false,
      "defaultValue": "13.405",
      "label": null,
      "name": "lon",
      "options": {
       "widgetDisplayType": "Text",
       "validationRegex": null
      },
      "parameterDataType": "String"
     },
     "widgetInfo": {
      "widgetType": "text",
      "defaultValue": "13.405",
      "label": null,
      "name": "lon",
      "options": {
       "widgetType": "text",
       "autoCreated": null,
       "validationRegex": null
      }
     }
    },
    "tz": {
     "currentValue": "Europe/Berlin",
     "nuid": "138ff435-c772-40ee-9519-476b92e7281c",
     "typedWidgetInfo": {
      "autoCreated": false,
      "defaultValue": "Europe/Berlin",
      "label": null,
      "name": "tz",
      "options": {
       "widgetDisplayType": "Text",
       "validationRegex": null
      },
      "parameterDataType": "String"
     },
     "widgetInfo": {
      "widgetType": "text",
      "defaultValue": "Europe/Berlin",
      "label": null,
      "name": "tz",
      "options": {
       "widgetType": "text",
       "autoCreated": null,
       "validationRegex": null
      }
     }
    }
   }
  },
  "language_info": {
   "name": "python"
  }
 },
 "nbformat": 4,
 "nbformat_minor": 0
}
