{
 "cells": [
  {
   "cell_type": "code",
   "execution_count": 0,
   "metadata": {
    "application/vnd.databricks.v1+cell": {
     "cellMetadata": {
      "byteLimit": 2048000,
      "rowLimit": 10000
     },
     "inputWidgets": {},
     "nuid": "e134711a-474f-49ea-b1a3-837860767459",
     "showTitle": false,
     "tableResultSettingsMap": {},
     "title": ""
    }
   },
   "outputs": [],
   "source": [
    "# COMMAND ---------- (cell 1) — Init & widgets\n",
    "dbutils.widgets.text(\"lat\",  \"52.52\")      # Berlin default\n",
    "dbutils.widgets.text(\"lon\",  \"13.405\")\n",
    "dbutils.widgets.text(\"tz\",   \"Europe/Berlin\")\n",
    "dbutils.widgets.text(\"hours\",\"168\")        # forecast horizon (if no start_date)\n",
    "dbutils.widgets.text(\"start_date\", \"\")     # NEW: historical backfill start (YYYY-MM-DD)\n",
    "dbutils.widgets.text(\"end_date\",   \"\")     # NEW: historical backfill end (YYYY-MM-DD)\n",
    "\n",
    "lat        = dbutils.widgets.get(\"lat\")\n",
    "lon        = dbutils.widgets.get(\"lon\")\n",
    "tz         = dbutils.widgets.get(\"tz\")\n",
    "hours      = int(dbutils.widgets.get(\"hours\"))\n",
    "start_date = dbutils.widgets.get(\"start_date\") or None\n",
    "end_date   = dbutils.widgets.get(\"end_date\") or None\n",
    "\n",
    "import requests, pyspark.sql.functions as F\n",
    "# COMMAND ---------- (cell 2) — Pull JSON from Open-Meteo (Historical or Forecast)\n",
    "\n",
    "# Use archive endpoint if backfill dates are provided\n",
    "if start_date and end_date:\n",
    "    BASE = \"https://archive-api.open-meteo.com/v1/archive\"\n",
    "else:\n",
    "    BASE = \"https://api.open-meteo.com/v1/forecast\"\n",
    "\n",
    "params = dict(\n",
    "    latitude = lat,\n",
    "    longitude = lon,\n",
    "    hourly = \",\".join([\n",
    "        \"temperature_2m\", \"relativehumidity_2m\",\n",
    "        \"windspeed_10m\", \"winddirection_10m\", \"pressure_msl\"\n",
    "    ]),\n",
    "    timezone = tz\n",
    ")\n",
    "\n",
    "# Add backfill dates OR forecast horizon\n",
    "if start_date and end_date:\n",
    "    params[\"start_date\"] = start_date\n",
    "    params[\"end_date\"]   = end_date\n",
    "else:\n",
    "    params[\"forecast_hours\"] = hours  # default 7-day forecast\n",
    "\n",
    "resp = requests.get(BASE, params=params, timeout=20)\n",
    "resp.raise_for_status()\n",
    "payload = resp.json()\n",
    "\n",
    "# COMMAND ---------- (cell 3) — Shape into Spark DF\n",
    "hourly = payload[\"hourly\"]\n",
    "rows = list(zip(hourly[\"time\"],\n",
    "                hourly[\"temperature_2m\"],\n",
    "                hourly[\"relativehumidity_2m\"],\n",
    "                hourly[\"windspeed_10m\"],\n",
    "                hourly[\"winddirection_10m\"],\n",
    "                hourly[\"pressure_msl\"]))\n",
    "\n",
    "cols = [\"timestamp_utc\",\"temp_c\",\"humidity_pct\",\"wind_speed_kmh\",\"wind_dir_deg\",\"pressure_hpa\"]\n",
    "df = spark.createDataFrame(rows, cols)\\\n",
    "          .withColumn(\"location_lat\", F.lit(float(lat)))\\\n",
    "          .withColumn(\"location_lon\", F.lit(float(lon)))\\\n",
    "          .withColumn(\"ingest_ts\",    F.current_timestamp())\\\n",
    "          .withColumn(\"ingest_ts_date\", F.to_date(\"ingest_ts\"))\\\n",
    "          .withColumn(\"source_url\",   F.lit(resp.url))\n",
    "\n",
    "# COMMAND ---------- (cell 4) — Write/merge into Delta Bronze\n",
    "spark.sql(\"CREATE DATABASE IF NOT EXISTS weather_bronze\")\n",
    "(\n",
    "  df.write\n",
    "    .format(\"delta\")\n",
    "    .mode(\"append\")\n",
    "    .partitionBy(\"ingest_ts_date\")\n",
    "    .option(\"mergeSchema\", \"true\")\n",
    "    .saveAsTable(\"weather_bronze.hourly\")\n",
    ")\n",
    "\n",
    "# Quick helper view (latest record)\n",
    "spark.sql(\"\"\"\n",
    "CREATE OR REPLACE VIEW weather_bronze.hourly_latest AS\n",
    "SELECT * FROM weather_bronze.hourly \n",
    "WHERE timestamp_utc = (SELECT max(timestamp_utc) FROM weather_bronze.hourly)\n",
    "\"\"\")\n",
    "\n",
    "print(\"API Used:\", BASE)\n",
    "print(\"Source URL:\", resp.url)\n"
   ]
  }
 ],
 "metadata": {
  "application/vnd.databricks.v1+notebook": {
   "computePreferences": null,
   "dashboards": [],
   "environmentMetadata": {
    "base_environment": "",
    "environment_version": "2"
   },
   "inputWidgetPreferences": null,
   "language": "python",
   "notebookMetadata": {
    "pythonIndentUnit": 4
   },
   "notebookName": "01_ingest_weather_bronze",
   "widgets": {
    "end_date": {
     "currentValue": "",
     "nuid": "4ee026c3-5e42-4b6d-adc3-a74e2ceeb6a4",
     "typedWidgetInfo": {
      "autoCreated": false,
      "defaultValue": "",
      "label": null,
      "name": "end_date",
      "options": {
       "widgetDisplayType": "Text",
       "validationRegex": null
      },
      "parameterDataType": "String"
     },
     "widgetInfo": {
      "widgetType": "text",
      "defaultValue": "",
      "label": null,
      "name": "end_date",
      "options": {
       "widgetType": "text",
       "autoCreated": null,
       "validationRegex": null
      }
     }
    },
    "hours": {
     "currentValue": "168",
     "nuid": "8738b482-8db1-40ac-8c97-d47b522bfde6",
     "typedWidgetInfo": {
      "autoCreated": false,
      "defaultValue": "168",
      "label": null,
      "name": "hours",
      "options": {
       "widgetDisplayType": "Text",
       "validationRegex": null
      },
      "parameterDataType": "String"
     },
     "widgetInfo": {
      "widgetType": "text",
      "defaultValue": "168",
      "label": null,
      "name": "hours",
      "options": {
       "widgetType": "text",
       "autoCreated": null,
       "validationRegex": null
      }
     }
    },
    "lat": {
     "currentValue": "52.52",
     "nuid": "f42662d6-5d6a-49b9-856c-1ba12b0e4fed",
     "typedWidgetInfo": {
      "autoCreated": false,
      "defaultValue": "52.52",
      "label": null,
      "name": "lat",
      "options": {
       "widgetDisplayType": "Text",
       "validationRegex": null
      },
      "parameterDataType": "String"
     },
     "widgetInfo": {
      "widgetType": "text",
      "defaultValue": "52.52",
      "label": null,
      "name": "lat",
      "options": {
       "widgetType": "text",
       "autoCreated": null,
       "validationRegex": null
      }
     }
    },
    "lon": {
     "currentValue": "13.405",
     "nuid": "80e26188-20b9-4346-8f2a-295665817f7d",
     "typedWidgetInfo": {
      "autoCreated": false,
      "defaultValue": "13.405",
      "label": null,
      "name": "lon",
      "options": {
       "widgetDisplayType": "Text",
       "validationRegex": null
      },
      "parameterDataType": "String"
     },
     "widgetInfo": {
      "widgetType": "text",
      "defaultValue": "13.405",
      "label": null,
      "name": "lon",
      "options": {
       "widgetType": "text",
       "autoCreated": null,
       "validationRegex": null
      }
     }
    },
    "start_date": {
     "currentValue": "",
     "nuid": "0923fcb9-9711-4cb1-bc59-06ba2d4cb5f8",
     "typedWidgetInfo": {
      "autoCreated": false,
      "defaultValue": "",
      "label": null,
      "name": "start_date",
      "options": {
       "widgetDisplayType": "Text",
       "validationRegex": null
      },
      "parameterDataType": "String"
     },
     "widgetInfo": {
      "widgetType": "text",
      "defaultValue": "",
      "label": null,
      "name": "start_date",
      "options": {
       "widgetType": "text",
       "autoCreated": null,
       "validationRegex": null
      }
     }
    },
    "tz": {
     "currentValue": "Europe/Berlin",
     "nuid": "138ff435-c772-40ee-9519-476b92e7281c",
     "typedWidgetInfo": {
      "autoCreated": false,
      "defaultValue": "Europe/Berlin",
      "label": null,
      "name": "tz",
      "options": {
       "widgetDisplayType": "Text",
       "validationRegex": null
      },
      "parameterDataType": "String"
     },
     "widgetInfo": {
      "widgetType": "text",
      "defaultValue": "Europe/Berlin",
      "label": null,
      "name": "tz",
      "options": {
       "widgetType": "text",
       "autoCreated": null,
       "validationRegex": null
      }
     }
    }
   }
  },
  "language_info": {
   "name": "python"
  }
 },
 "nbformat": 4,
 "nbformat_minor": 0
}
