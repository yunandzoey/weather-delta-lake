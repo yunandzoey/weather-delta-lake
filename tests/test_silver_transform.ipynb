{
 "cells": [
  {
   "cell_type": "code",
   "execution_count": 0,
   "metadata": {
    "application/vnd.databricks.v1+cell": {
     "cellMetadata": {
      "byteLimit": 2048000,
      "rowLimit": 10000
     },
     "inputWidgets": {},
     "nuid": "b1db1357-2cde-42cd-b25c-cc892d66a855",
     "showTitle": false,
     "tableResultSettingsMap": {},
     "title": ""
    }
   },
   "outputs": [],
   "source": [
    "from pyspark.sql import SparkSession\n",
    "import pyspark.sql.functions as F\n",
    "\n",
    "try:\n",
    "    spark = SparkSession.active              # Databricks / Spark‑Connect\n",
    "except AttributeError:\n",
    "    spark = (SparkSession.builder            # Local PySpark\n",
    "             .master(\"local[2]\")\n",
    "             .appName(\"test\")\n",
    "             .getOrCreate())\n",
    "    \n",
    "def test_expectations_pass():\n",
    "    # create a tiny sample\n",
    "    data = [\n",
    "        (\"2025-07-15\", 52.52, 13.405, 24, 20.0, 30.0, 45.0),\n",
    "    ]\n",
    "    cols = [\"date\",\"lat\",\"lon\",\"row_count\",\"avg_temp_c\",\"max_wind_kmh\",\"min_humidity_pct\"]\n",
    "    df = spark.createDataFrame(data, cols)\n",
    "    df = df.withColumn(\"expect_row_count_ok\", F.expr(\"row_count = 24\"))\n",
    "    assert df.filter(~F.col(\"expect_row_count_ok\")).count() == 0\n"
   ]
  }
 ],
 "metadata": {
  "application/vnd.databricks.v1+notebook": {
   "computePreferences": null,
   "dashboards": [],
   "environmentMetadata": {
    "base_environment": "",
    "environment_version": "2"
   },
   "inputWidgetPreferences": null,
   "language": "python",
   "notebookMetadata": {
    "pythonIndentUnit": 4
   },
   "notebookName": "test_silver_transform",
   "widgets": {}
  },
  "language_info": {
   "name": "python"
  }
 },
 "nbformat": 4,
 "nbformat_minor": 0
}
